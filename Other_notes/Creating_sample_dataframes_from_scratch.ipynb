{
 "cells": [
  {
   "cell_type": "markdown",
   "metadata": {},
   "source": [
    "# How to create a sample dataframe from scratch\n",
    "\n",
    "In this notebook, we will explore how to create a sample dataframe manually, to be used in other examples."
   ]
  },
  {
   "cell_type": "markdown",
   "metadata": {},
   "source": [
    "## Create from a list of lists\n",
    "We will build this dataframe row by row, from a list of lists"
   ]
  },
  {
   "cell_type": "code",
   "execution_count": 1,
   "metadata": {},
   "outputs": [],
   "source": [
    "import pandas as pd\n",
    "\n",
    "data = [\n",
    "    ['James', 50, 'Web Developer', 'james.heatfilled@gmail.com'], \\\n",
    "    ['Astrid', 41, 'Data Analyst', 'astridleiland@hotmail.com.com'], \\\n",
    "    ['Louise', 27, 'Cloud Architect', 'louiselane@supercloud.com'], \\\n",
    "    ['Shawn', 36, 'Senior Flow Controller', 'shawnlane@supercloud.com'], \\\n",
    "    ]\n",
    "\n",
    "df = pd.DataFrame(data, columns=['Name', 'Age', 'Position', 'email'])"
   ]
  },
  {
   "cell_type": "code",
   "execution_count": 2,
   "metadata": {},
   "outputs": [
    {
     "data": {
      "text/html": [
       "<div>\n",
       "<style scoped>\n",
       "    .dataframe tbody tr th:only-of-type {\n",
       "        vertical-align: middle;\n",
       "    }\n",
       "\n",
       "    .dataframe tbody tr th {\n",
       "        vertical-align: top;\n",
       "    }\n",
       "\n",
       "    .dataframe thead th {\n",
       "        text-align: right;\n",
       "    }\n",
       "</style>\n",
       "<table border=\"1\" class=\"dataframe\">\n",
       "  <thead>\n",
       "    <tr style=\"text-align: right;\">\n",
       "      <th></th>\n",
       "      <th>Name</th>\n",
       "      <th>Age</th>\n",
       "      <th>Position</th>\n",
       "      <th>email</th>\n",
       "    </tr>\n",
       "  </thead>\n",
       "  <tbody>\n",
       "    <tr>\n",
       "      <th>0</th>\n",
       "      <td>James</td>\n",
       "      <td>50</td>\n",
       "      <td>Web Developer</td>\n",
       "      <td>james.heatfilled@gmail.com</td>\n",
       "    </tr>\n",
       "    <tr>\n",
       "      <th>1</th>\n",
       "      <td>Astrid</td>\n",
       "      <td>41</td>\n",
       "      <td>Data Analyst</td>\n",
       "      <td>astridleiland@hotmail.com.com</td>\n",
       "    </tr>\n",
       "    <tr>\n",
       "      <th>2</th>\n",
       "      <td>Louise</td>\n",
       "      <td>27</td>\n",
       "      <td>Cloud Architect</td>\n",
       "      <td>louiselane@supercloud.com</td>\n",
       "    </tr>\n",
       "    <tr>\n",
       "      <th>3</th>\n",
       "      <td>Shawn</td>\n",
       "      <td>36</td>\n",
       "      <td>Senior Flow Controller</td>\n",
       "      <td>shawnlane@supercloud.com</td>\n",
       "    </tr>\n",
       "  </tbody>\n",
       "</table>\n",
       "</div>"
      ],
      "text/plain": [
       "     Name  Age                Position                          email\n",
       "0   James   50           Web Developer     james.heatfilled@gmail.com\n",
       "1  Astrid   41            Data Analyst  astridleiland@hotmail.com.com\n",
       "2  Louise   27         Cloud Architect      louiselane@supercloud.com\n",
       "3   Shawn   36  Senior Flow Controller       shawnlane@supercloud.com"
      ]
     },
     "execution_count": 2,
     "metadata": {},
     "output_type": "execute_result"
    }
   ],
   "source": [
    "df.head()\n"
   ]
  },
  {
   "cell_type": "markdown",
   "metadata": {},
   "source": [
    "# Caution on modifying and copying dataframes"
   ]
  },
  {
   "cell_type": "code",
   "execution_count": null,
   "metadata": {},
   "outputs": [],
   "source": [
    "# This code will modify both df2 and df since both are pointing to the same dataframe structure in memory. To prevent this use copy() function\n",
    "# Instead of df2 = df\n",
    "# Use this!\n",
    "\n",
    "df2 = df.copy()\n",
    "df2.fillna('0', inplace=True) #You must specify inplace=True, otherwise it doesn't overwrite original values\n",
    "df2\n",
    "\n",
    "# Reference: https://stackoverflow.com/questions/27673231/why-should-i-make-a-copy-of-a-data-frame-in-pandas"
   ]
  }
 ],
 "metadata": {
  "kernelspec": {
   "display_name": "Python 3.9.12 64-bit",
   "language": "python",
   "name": "python3"
  },
  "language_info": {
   "codemirror_mode": {
    "name": "ipython",
    "version": 3
   },
   "file_extension": ".py",
   "mimetype": "text/x-python",
   "name": "python",
   "nbconvert_exporter": "python",
   "pygments_lexer": "ipython3",
   "version": "3.9.12"
  },
  "orig_nbformat": 4,
  "vscode": {
   "interpreter": {
    "hash": "b0fa6594d8f4cbf19f97940f81e996739fb7646882a419484c72d19e05852a7e"
   }
  }
 },
 "nbformat": 4,
 "nbformat_minor": 2
}
