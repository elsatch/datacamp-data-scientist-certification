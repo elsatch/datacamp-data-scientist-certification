{
 "cells": [
  {
   "cell_type": "markdown",
   "metadata": {},
   "source": [
    "# Importing data from public APIs"
   ]
  },
  {
   "cell_type": "markdown",
   "metadata": {},
   "source": [
    "## Importing text from Wikipedia"
   ]
  },
  {
   "cell_type": "code",
   "execution_count": 41,
   "metadata": {},
   "outputs": [
    {
     "name": "stdout",
     "output_type": "stream",
     "text": [
      "{'batchcomplete': '',\n",
      " 'query': {'pages': {'27697009': {'extract': '<link '\n",
      "                                             'rel=\"mw-deduplicated-inline-style\" '\n",
      "                                             'href=\"mw-data:TemplateStyles:r1033289096\"><p>An '\n",
      "                                             '<b>application programming '\n",
      "                                             'interface</b> (<b>API</b>) is a '\n",
      "                                             'way for two or more computer '\n",
      "                                             'programs to communicate with '\n",
      "                                             'each other. It is a type of '\n",
      "                                             'software interface, offering a '\n",
      "                                             'service to other pieces of '\n",
      "                                             'software. A document or standard '\n",
      "                                             'that describes how to build or '\n",
      "                                             'use such a connection or '\n",
      "                                             'interface is called an <i>API '\n",
      "                                             'specification</i>. A computer '\n",
      "                                             'system that meets this standard '\n",
      "                                             'is said to <i>implement</i> or '\n",
      "                                             '<i>expose</i> an API. The term '\n",
      "                                             'API may refer either to the '\n",
      "                                             'specification or to the '\n",
      "                                             'implementation.\\n'\n",
      "                                             '</p><p>In contrast to a user '\n",
      "                                             'interface, which connects a '\n",
      "                                             'computer to a person, an '\n",
      "                                             'application programming '\n",
      "                                             'interface connects computers or '\n",
      "                                             'pieces of software to each '\n",
      "                                             'other. It is not intended to be '\n",
      "                                             'used directly by a person (the '\n",
      "                                             'end user) other than a computer '\n",
      "                                             'programmer who is incorporating '\n",
      "                                             'it into the software. An API is '\n",
      "                                             'often made up of different parts '\n",
      "                                             'which act as tools or services '\n",
      "                                             'that are available to the '\n",
      "                                             'programmer. A program or a '\n",
      "                                             'programmer that uses one of '\n",
      "                                             'these parts is said to '\n",
      "                                             '<i>call</i> that portion of the '\n",
      "                                             'API. The calls that make up the '\n",
      "                                             'API are also known as '\n",
      "                                             'subroutines, methods, requests, '\n",
      "                                             'or endpoints. An API '\n",
      "                                             'specification <i>defines</i> '\n",
      "                                             'these calls, meaning that it '\n",
      "                                             'explains how to use or implement '\n",
      "                                             'them.\\n'\n",
      "                                             '</p><p>One purpose of APIs is to '\n",
      "                                             'hide the internal details of how '\n",
      "                                             'a system works, exposing only '\n",
      "                                             'those parts a programmer will '\n",
      "                                             'find useful and keeping them '\n",
      "                                             'consistent even if the internal '\n",
      "                                             'details later change. An API may '\n",
      "                                             'be custom-built for a particular '\n",
      "                                             'pair of systems, or it may be a '\n",
      "                                             'shared standard allowing '\n",
      "                                             'interoperability among many '\n",
      "                                             'systems.\\n'\n",
      "                                             '</p><p>The term API is often '\n",
      "                                             'used to refer to web APIs, which '\n",
      "                                             'allow communication between '\n",
      "                                             'computers that are joined by the '\n",
      "                                             'internet. There are also APIs '\n",
      "                                             'for programming languages, '\n",
      "                                             'software libraries, computer '\n",
      "                                             'operating systems, and computer '\n",
      "                                             'hardware. APIs originated in the '\n",
      "                                             '1940s, though the term did not '\n",
      "                                             'emerge until the 1960s and '\n",
      "                                             '1970s. Recent developments in '\n",
      "                                             'utilizing APIs have led to the '\n",
      "                                             'rise in popularity of '\n",
      "                                             'microservices, which are '\n",
      "                                             'ultimately loosely coupled '\n",
      "                                             'services accessed through public '\n",
      "                                             'APIs.</p>\\n'\n",
      "                                             '\\n'\n",
      "                                             '\\n',\n",
      "                                  'ns': 0,\n",
      "                                  'pageid': 27697009,\n",
      "                                  'title': 'API'}}},\n",
      " 'warnings': {'extracts': {'*': 'HTML may be malformed and/or unbalanced and '\n",
      "                                'may omit inline images. Use at your own risk. '\n",
      "                                'Known problems are listed at '\n",
      "                                'https://www.mediawiki.org/wiki/Special:MyLanguage/Extension:TextExtracts#Caveats.'}}}\n"
     ]
    }
   ],
   "source": [
    "import requests\n",
    "import pprint\n",
    "import pandas as pd\n",
    "\n",
    "url = 'https://en.wikipedia.org/w/api.php?action=query&prop=extracts&format=json&exintro=&titles=API'\n",
    "\n",
    "r = requests.get(url)\n",
    "\n",
    "json_data = r.json()\n",
    "\n",
    "# pprint if the Data pretty printer - https://docs.python.org/3.9/library/pprint.html\n",
    "\n",
    "# print(json_data)\n",
    "pprint.pprint(json_data)"
   ]
  },
  {
   "cell_type": "code",
   "execution_count": 35,
   "metadata": {},
   "outputs": [
    {
     "name": "stdout",
     "output_type": "stream",
     "text": [
      "<link rel=\"mw-deduplicated-inline-style\" href=\"mw-data:TemplateStyles:r1033289096\"><p>An <b>application programming interface</b> (<b>API</b>) is a way for two or more computer programs to communicate with each other. It is a type of software interface, offering a service to other pieces of software. A document or standard that describes how to build or use such a connection or interface is called an <i>API specification</i>. A computer system that meets this standard is said to <i>implement</i> or <i>expose</i> an API. The term API may refer either to the specification or to the implementation.\n",
      "</p><p>In contrast to a user interface, which connects a computer to a person, an application programming interface connects computers or pieces of software to each other. It is not intended to be used directly by a person (the end user) other than a computer programmer who is incorporating it into the software. An API is often made up of different parts which act as tools or services that are available to the programmer. A program or a programmer that uses one of these parts is said to <i>call</i> that portion of the API. The calls that make up the API are also known as subroutines, methods, requests, or endpoints. An API specification <i>defines</i> these calls, meaning that it explains how to use or implement them.\n",
      "</p><p>One purpose of APIs is to hide the internal details of how a system works, exposing only those parts a programmer will find useful and keeping them consistent even if the internal details later change. An API may be custom-built for a particular pair of systems, or it may be a shared standard allowing interoperability among many systems.\n",
      "</p><p>The term API is often used to refer to web APIs, which allow communication between computers that are joined by the internet. There are also APIs for programming languages, software libraries, computer operating systems, and computer hardware. APIs originated in the 1940s, though the term did not emerge until the 1960s and 1970s. Recent developments in utilizing APIs have led to the rise in popularity of microservices, which are ultimately loosely coupled services accessed through public APIs.</p>\n",
      "\n",
      "\n",
      "\n"
     ]
    }
   ],
   "source": [
    "# Taking the route from the output 'query': {'pages': {'27697009': {'extract', we will use it to extract the contents\n",
    "API_description = json_data['query']['pages']['27697009']['extract']\n",
    "print(API_description)"
   ]
  },
  {
   "cell_type": "markdown",
   "metadata": {},
   "source": [
    "For additional examples check the notebook 'Identify_HTML_JSON_structures_parse_usable_data_formats.ipynb'"
   ]
  }
 ],
 "metadata": {
  "kernelspec": {
   "display_name": "Python 3.9.12 64-bit",
   "language": "python",
   "name": "python3"
  },
  "language_info": {
   "codemirror_mode": {
    "name": "ipython",
    "version": 3
   },
   "file_extension": ".py",
   "mimetype": "text/x-python",
   "name": "python",
   "nbconvert_exporter": "python",
   "pygments_lexer": "ipython3",
   "version": "3.9.12"
  },
  "orig_nbformat": 4,
  "vscode": {
   "interpreter": {
    "hash": "b0fa6594d8f4cbf19f97940f81e996739fb7646882a419484c72d19e05852a7e"
   }
  }
 },
 "nbformat": 4,
 "nbformat_minor": 2
}
