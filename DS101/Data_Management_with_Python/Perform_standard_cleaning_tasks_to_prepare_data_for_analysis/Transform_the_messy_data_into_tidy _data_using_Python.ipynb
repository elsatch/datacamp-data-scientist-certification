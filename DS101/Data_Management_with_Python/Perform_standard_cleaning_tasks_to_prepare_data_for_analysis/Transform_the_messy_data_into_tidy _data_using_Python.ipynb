{
 "cells": [
  {
   "cell_type": "markdown",
   "metadata": {},
   "source": [
    "# Explain the concept of tidy data\n",
    "Reference paper: [Tidy Data](https://vita.had.co.nz/papers/tidy-data.pdf)\n",
    "Reference DataCamp course: Reshaping data with pandas\n",
    "\n",
    "Definition: \n",
    "\n",
    "In tidy data:\n",
    "- Each variable forms a column\n",
    "- Each observation forms a row\n",
    "- Each type of observational unit forms a table"
   ]
  },
  {
   "cell_type": "markdown",
   "metadata": {},
   "source": [
    "# Fundamental operations\n",
    "There are three fundamental operations:\n",
    "- Pivot\n",
    "- Stack / Unstack\n",
    "- Melt\n",
    "\n",
    "Reference: https://pandas.pydata.org/docs/user_guide/reshaping.html\n",
    "\n",
    "Reference: https://wesmckinney.com/book/data-wrangling.html#prep_reshape"
   ]
  }
 ],
 "metadata": {
  "kernelspec": {
   "display_name": "Python 3.9.7 ('base')",
   "language": "python",
   "name": "python3"
  },
  "language_info": {
   "codemirror_mode": {
    "name": "ipython",
    "version": 3
   },
   "file_extension": ".py",
   "mimetype": "text/x-python",
   "name": "python",
   "nbconvert_exporter": "python",
   "pygments_lexer": "ipython3",
   "version": "3.9.7"
  },
  "orig_nbformat": 4,
  "vscode": {
   "interpreter": {
    "hash": "3e53568cb760f1b9458a161b416fefa6fc6dc6f2dd3e542eb657fc132f7b56e7"
   }
  }
 },
 "nbformat": 4,
 "nbformat_minor": 2
}
