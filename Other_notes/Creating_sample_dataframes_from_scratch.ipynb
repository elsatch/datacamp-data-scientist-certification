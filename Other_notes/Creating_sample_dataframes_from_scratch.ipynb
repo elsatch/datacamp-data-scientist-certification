{
 "cells": [
  {
   "cell_type": "markdown",
   "metadata": {},
   "source": [
    "# How to create a sample dataframe from scratch\n",
    "\n",
    "In this notebook, we will explore how to create a sample dataframe manually, to be used in other examples."
   ]
  },
  {
   "cell_type": "markdown",
   "metadata": {},
   "source": [
    "## Create from a list of lists\n",
    "We will build this dataframe row by row, from a list of lists"
   ]
  },
  {
   "cell_type": "code",
   "execution_count": 3,
   "metadata": {},
   "outputs": [],
   "source": [
    "import pandas as pd\n",
    "\n",
    "data = [\n",
    "    ['James', 50, 'Web Developer', 'james.heatfilled@gmail.com'], \\\n",
    "    ['Astrid', 41, 'Data Analyst', 'astridleiland@hotmail.com.com'], \\\n",
    "    ['Louise', 27, 'Cloud Architect', 'louiselane@supercloud.com'], \\\n",
    "    ['Shawn', 36, 'Senior Flow Controller', 'shawnlane@supercloud.com'], \\\n",
    "    ]\n",
    "\n",
    "df = pd.DataFrame(data, columns=['Name', 'Age', 'Position', 'email'])"
   ]
  },
  {
   "cell_type": "code",
   "execution_count": 4,
   "metadata": {},
   "outputs": [
    {
     "data": {
      "text/html": [
       "<div>\n",
       "<style scoped>\n",
       "    .dataframe tbody tr th:only-of-type {\n",
       "        vertical-align: middle;\n",
       "    }\n",
       "\n",
       "    .dataframe tbody tr th {\n",
       "        vertical-align: top;\n",
       "    }\n",
       "\n",
       "    .dataframe thead th {\n",
       "        text-align: right;\n",
       "    }\n",
       "</style>\n",
       "<table border=\"1\" class=\"dataframe\">\n",
       "  <thead>\n",
       "    <tr style=\"text-align: right;\">\n",
       "      <th></th>\n",
       "      <th>Name</th>\n",
       "      <th>Age</th>\n",
       "      <th>Position</th>\n",
       "      <th>email</th>\n",
       "    </tr>\n",
       "  </thead>\n",
       "  <tbody>\n",
       "    <tr>\n",
       "      <th>0</th>\n",
       "      <td>James</td>\n",
       "      <td>50</td>\n",
       "      <td>Web Developer</td>\n",
       "      <td>james.heatfilled@gmail.com</td>\n",
       "    </tr>\n",
       "    <tr>\n",
       "      <th>1</th>\n",
       "      <td>Astrid</td>\n",
       "      <td>41</td>\n",
       "      <td>Data Analyst</td>\n",
       "      <td>astridleiland@hotmail.com.com</td>\n",
       "    </tr>\n",
       "    <tr>\n",
       "      <th>2</th>\n",
       "      <td>Louise</td>\n",
       "      <td>27</td>\n",
       "      <td>Cloud Architect</td>\n",
       "      <td>louiselane@supercloud.com</td>\n",
       "    </tr>\n",
       "    <tr>\n",
       "      <th>3</th>\n",
       "      <td>Shawn</td>\n",
       "      <td>36</td>\n",
       "      <td>Senior Flow Controller</td>\n",
       "      <td>shawnlane@supercloud.com</td>\n",
       "    </tr>\n",
       "  </tbody>\n",
       "</table>\n",
       "</div>"
      ],
      "text/plain": [
       "     Name  Age                Position                          email\n",
       "0   James   50           Web Developer     james.heatfilled@gmail.com\n",
       "1  Astrid   41            Data Analyst  astridleiland@hotmail.com.com\n",
       "2  Louise   27         Cloud Architect      louiselane@supercloud.com\n",
       "3   Shawn   36  Senior Flow Controller       shawnlane@supercloud.com"
      ]
     },
     "execution_count": 4,
     "metadata": {},
     "output_type": "execute_result"
    }
   ],
   "source": [
    "df.head()\n"
   ]
  },
  {
   "cell_type": "markdown",
   "metadata": {},
   "source": [
    "## Creating from a dictionary of lists"
   ]
  },
  {
   "cell_type": "code",
   "execution_count": 11,
   "metadata": {},
   "outputs": [
    {
     "data": {
      "text/html": [
       "<div>\n",
       "<style scoped>\n",
       "    .dataframe tbody tr th:only-of-type {\n",
       "        vertical-align: middle;\n",
       "    }\n",
       "\n",
       "    .dataframe tbody tr th {\n",
       "        vertical-align: top;\n",
       "    }\n",
       "\n",
       "    .dataframe thead th {\n",
       "        text-align: right;\n",
       "    }\n",
       "</style>\n",
       "<table border=\"1\" class=\"dataframe\">\n",
       "  <thead>\n",
       "    <tr style=\"text-align: right;\">\n",
       "      <th></th>\n",
       "      <th>station_id</th>\n",
       "      <th>date</th>\n",
       "      <th>temperature</th>\n",
       "    </tr>\n",
       "  </thead>\n",
       "  <tbody>\n",
       "    <tr>\n",
       "      <th>0</th>\n",
       "      <td>1</td>\n",
       "      <td>2022-07-13</td>\n",
       "      <td>36.5</td>\n",
       "    </tr>\n",
       "    <tr>\n",
       "      <th>1</th>\n",
       "      <td>2</td>\n",
       "      <td>2022-07-13</td>\n",
       "      <td>37.9</td>\n",
       "    </tr>\n",
       "    <tr>\n",
       "      <th>2</th>\n",
       "      <td>3</td>\n",
       "      <td>2022-07-13</td>\n",
       "      <td>34.3</td>\n",
       "    </tr>\n",
       "    <tr>\n",
       "      <th>3</th>\n",
       "      <td>4</td>\n",
       "      <td>2022-07-13</td>\n",
       "      <td>40.2</td>\n",
       "    </tr>\n",
       "    <tr>\n",
       "      <th>4</th>\n",
       "      <td>1</td>\n",
       "      <td>2022-07-14</td>\n",
       "      <td>38.2</td>\n",
       "    </tr>\n",
       "    <tr>\n",
       "      <th>5</th>\n",
       "      <td>2</td>\n",
       "      <td>2022-07-14</td>\n",
       "      <td>39.8</td>\n",
       "    </tr>\n",
       "    <tr>\n",
       "      <th>6</th>\n",
       "      <td>3</td>\n",
       "      <td>2022-07-14</td>\n",
       "      <td>35.2</td>\n",
       "    </tr>\n",
       "    <tr>\n",
       "      <th>7</th>\n",
       "      <td>4</td>\n",
       "      <td>2022-07-14</td>\n",
       "      <td>41.7</td>\n",
       "    </tr>\n",
       "    <tr>\n",
       "      <th>8</th>\n",
       "      <td>1</td>\n",
       "      <td>2022-07-15</td>\n",
       "      <td>34.1</td>\n",
       "    </tr>\n",
       "    <tr>\n",
       "      <th>9</th>\n",
       "      <td>2</td>\n",
       "      <td>2022-07-15</td>\n",
       "      <td>37.2</td>\n",
       "    </tr>\n",
       "    <tr>\n",
       "      <th>10</th>\n",
       "      <td>3</td>\n",
       "      <td>2022-07-15</td>\n",
       "      <td>30.9</td>\n",
       "    </tr>\n",
       "    <tr>\n",
       "      <th>11</th>\n",
       "      <td>4</td>\n",
       "      <td>2022-07-15</td>\n",
       "      <td>38.6</td>\n",
       "    </tr>\n",
       "  </tbody>\n",
       "</table>\n",
       "</div>"
      ],
      "text/plain": [
       "    station_id        date  temperature\n",
       "0            1  2022-07-13         36.5\n",
       "1            2  2022-07-13         37.9\n",
       "2            3  2022-07-13         34.3\n",
       "3            4  2022-07-13         40.2\n",
       "4            1  2022-07-14         38.2\n",
       "5            2  2022-07-14         39.8\n",
       "6            3  2022-07-14         35.2\n",
       "7            4  2022-07-14         41.7\n",
       "8            1  2022-07-15         34.1\n",
       "9            2  2022-07-15         37.2\n",
       "10           3  2022-07-15         30.9\n",
       "11           4  2022-07-15         38.6"
      ]
     },
     "execution_count": 11,
     "metadata": {},
     "output_type": "execute_result"
    }
   ],
   "source": [
    "temperature_data = {\"station_id\": [1, 2, 3, 4, 1, 2, 3, 4, 1, 2, 3, 4],\n",
    "                   \"date\": ['2022-07-13', '2022-07-13', '2022-07-13', '2022-07-13', \\\n",
    "                   '2022-07-14', '2022-07-14', '2022-07-14', '2022-07-14', \\\n",
    "                    '2022-07-15', '2022-07-15', '2022-07-15', '2022-07-15'],\n",
    "                   \"temperature\": [36.5, 37.9, 34.3, 40.2, 38.2, 39.8, 35.2, 41.7, 34.1, 37.2, 30.9, 38.6]}\n",
    "\n",
    "temperatures = pd.DataFrame(temperature_data)\n",
    "temperatures"
   ]
  },
  {
   "cell_type": "code",
   "execution_count": 12,
   "metadata": {},
   "outputs": [
    {
     "name": "stdout",
     "output_type": "stream",
     "text": [
      "<class 'pandas.core.frame.DataFrame'>\n",
      "RangeIndex: 12 entries, 0 to 11\n",
      "Data columns (total 3 columns):\n",
      " #   Column       Non-Null Count  Dtype  \n",
      "---  ------       --------------  -----  \n",
      " 0   station_id   12 non-null     int64  \n",
      " 1   date         12 non-null     object \n",
      " 2   temperature  12 non-null     float64\n",
      "dtypes: float64(1), int64(1), object(1)\n",
      "memory usage: 416.0+ bytes\n"
     ]
    }
   ],
   "source": [
    "temperatures.info()"
   ]
  },
  {
   "cell_type": "code",
   "execution_count": 14,
   "metadata": {},
   "outputs": [
    {
     "name": "stdout",
     "output_type": "stream",
     "text": [
      "<class 'pandas.core.frame.DataFrame'>\n",
      "RangeIndex: 12 entries, 0 to 11\n",
      "Data columns (total 3 columns):\n",
      " #   Column       Non-Null Count  Dtype         \n",
      "---  ------       --------------  -----         \n",
      " 0   station_id   12 non-null     int64         \n",
      " 1   date         12 non-null     datetime64[ns]\n",
      " 2   temperature  12 non-null     float64       \n",
      "dtypes: datetime64[ns](1), float64(1), int64(1)\n",
      "memory usage: 416.0 bytes\n"
     ]
    }
   ],
   "source": [
    "# Converting date column to datetime dtype\n",
    "temperatures['date'] = pd.to_datetime(temperatures['date'])\n",
    "temperatures.info()"
   ]
  },
  {
   "cell_type": "markdown",
   "metadata": {},
   "source": [
    "## Create a dataframe that includes nans "
   ]
  },
  {
   "cell_type": "markdown",
   "metadata": {},
   "source": [
    "Let's say we want to replace 15% of the values in a dataframe for NaN. To do so, we could iterate over the columns and use the sample method to select the given percentage."
   ]
  },
  {
   "cell_type": "code",
   "execution_count": 22,
   "metadata": {},
   "outputs": [
    {
     "data": {
      "text/html": [
       "<div>\n",
       "<style scoped>\n",
       "    .dataframe tbody tr th:only-of-type {\n",
       "        vertical-align: middle;\n",
       "    }\n",
       "\n",
       "    .dataframe tbody tr th {\n",
       "        vertical-align: top;\n",
       "    }\n",
       "\n",
       "    .dataframe thead th {\n",
       "        text-align: right;\n",
       "    }\n",
       "</style>\n",
       "<table border=\"1\" class=\"dataframe\">\n",
       "  <thead>\n",
       "    <tr style=\"text-align: right;\">\n",
       "      <th></th>\n",
       "      <th>0</th>\n",
       "      <th>1</th>\n",
       "      <th>2</th>\n",
       "      <th>3</th>\n",
       "      <th>4</th>\n",
       "    </tr>\n",
       "  </thead>\n",
       "  <tbody>\n",
       "    <tr>\n",
       "      <th>0</th>\n",
       "      <td>0.555998</td>\n",
       "      <td>NaN</td>\n",
       "      <td>-0.875981</td>\n",
       "      <td>-0.261545</td>\n",
       "      <td>-0.491278</td>\n",
       "    </tr>\n",
       "    <tr>\n",
       "      <th>1</th>\n",
       "      <td>-1.452487</td>\n",
       "      <td>1.829177</td>\n",
       "      <td>NaN</td>\n",
       "      <td>0.401964</td>\n",
       "      <td>NaN</td>\n",
       "    </tr>\n",
       "    <tr>\n",
       "      <th>2</th>\n",
       "      <td>-0.445860</td>\n",
       "      <td>0.573537</td>\n",
       "      <td>0.279726</td>\n",
       "      <td>-1.263177</td>\n",
       "      <td>-0.919389</td>\n",
       "    </tr>\n",
       "    <tr>\n",
       "      <th>3</th>\n",
       "      <td>-0.248787</td>\n",
       "      <td>0.104669</td>\n",
       "      <td>1.166173</td>\n",
       "      <td>NaN</td>\n",
       "      <td>0.728698</td>\n",
       "    </tr>\n",
       "    <tr>\n",
       "      <th>4</th>\n",
       "      <td>NaN</td>\n",
       "      <td>0.355799</td>\n",
       "      <td>1.282254</td>\n",
       "      <td>1.269502</td>\n",
       "      <td>-0.797775</td>\n",
       "    </tr>\n",
       "    <tr>\n",
       "      <th>5</th>\n",
       "      <td>1.792932</td>\n",
       "      <td>0.388397</td>\n",
       "      <td>2.031881</td>\n",
       "      <td>-0.372052</td>\n",
       "      <td>0.118529</td>\n",
       "    </tr>\n",
       "    <tr>\n",
       "      <th>6</th>\n",
       "      <td>-0.606921</td>\n",
       "      <td>1.529510</td>\n",
       "      <td>-0.998647</td>\n",
       "      <td>1.361117</td>\n",
       "      <td>1.174833</td>\n",
       "    </tr>\n",
       "  </tbody>\n",
       "</table>\n",
       "</div>"
      ],
      "text/plain": [
       "          0         1         2         3         4\n",
       "0  0.555998       NaN -0.875981 -0.261545 -0.491278\n",
       "1 -1.452487  1.829177       NaN  0.401964       NaN\n",
       "2 -0.445860  0.573537  0.279726 -1.263177 -0.919389\n",
       "3 -0.248787  0.104669  1.166173       NaN  0.728698\n",
       "4       NaN  0.355799  1.282254  1.269502 -0.797775\n",
       "5  1.792932  0.388397  2.031881 -0.372052  0.118529\n",
       "6 -0.606921  1.529510 -0.998647  1.361117  1.174833"
      ]
     },
     "execution_count": 22,
     "metadata": {},
     "output_type": "execute_result"
    }
   ],
   "source": [
    "import numpy as np\n",
    "nan_df = pd.DataFrame(np.random.randn(7, 5))\n",
    "\n",
    "for col in nan_df.columns:\n",
    "    nan_df.loc[nan_df.sample(frac=0.15).index, col] = np.nan\n",
    "\n",
    "nan_df"
   ]
  },
  {
   "cell_type": "markdown",
   "metadata": {},
   "source": [
    "Reference: https://stackoverflow.com/questions/39059032/randomly-insert-nas-values-in-a-pandas-dataframe"
   ]
  },
  {
   "cell_type": "markdown",
   "metadata": {},
   "source": [
    "# Warning on modifying and copying dataframes"
   ]
  },
  {
   "cell_type": "code",
   "execution_count": 5,
   "metadata": {},
   "outputs": [
    {
     "data": {
      "text/html": [
       "<div>\n",
       "<style scoped>\n",
       "    .dataframe tbody tr th:only-of-type {\n",
       "        vertical-align: middle;\n",
       "    }\n",
       "\n",
       "    .dataframe tbody tr th {\n",
       "        vertical-align: top;\n",
       "    }\n",
       "\n",
       "    .dataframe thead th {\n",
       "        text-align: right;\n",
       "    }\n",
       "</style>\n",
       "<table border=\"1\" class=\"dataframe\">\n",
       "  <thead>\n",
       "    <tr style=\"text-align: right;\">\n",
       "      <th></th>\n",
       "      <th>Name</th>\n",
       "      <th>Age</th>\n",
       "      <th>Position</th>\n",
       "      <th>email</th>\n",
       "    </tr>\n",
       "  </thead>\n",
       "  <tbody>\n",
       "    <tr>\n",
       "      <th>0</th>\n",
       "      <td>James</td>\n",
       "      <td>50</td>\n",
       "      <td>Web Developer</td>\n",
       "      <td>james.heatfilled@gmail.com</td>\n",
       "    </tr>\n",
       "    <tr>\n",
       "      <th>1</th>\n",
       "      <td>Astrid</td>\n",
       "      <td>41</td>\n",
       "      <td>Data Analyst</td>\n",
       "      <td>astridleiland@hotmail.com.com</td>\n",
       "    </tr>\n",
       "    <tr>\n",
       "      <th>2</th>\n",
       "      <td>Louise</td>\n",
       "      <td>27</td>\n",
       "      <td>Cloud Architect</td>\n",
       "      <td>louiselane@supercloud.com</td>\n",
       "    </tr>\n",
       "    <tr>\n",
       "      <th>3</th>\n",
       "      <td>Shawn</td>\n",
       "      <td>36</td>\n",
       "      <td>Senior Flow Controller</td>\n",
       "      <td>shawnlane@supercloud.com</td>\n",
       "    </tr>\n",
       "  </tbody>\n",
       "</table>\n",
       "</div>"
      ],
      "text/plain": [
       "     Name  Age                Position                          email\n",
       "0   James   50           Web Developer     james.heatfilled@gmail.com\n",
       "1  Astrid   41            Data Analyst  astridleiland@hotmail.com.com\n",
       "2  Louise   27         Cloud Architect      louiselane@supercloud.com\n",
       "3   Shawn   36  Senior Flow Controller       shawnlane@supercloud.com"
      ]
     },
     "execution_count": 5,
     "metadata": {},
     "output_type": "execute_result"
    }
   ],
   "source": [
    "# Instead of df2 = df\n",
    "# Use .copy()!\n",
    "# Otherwise you would modify both df2 and df since both are pointing to the same dataframe structure in memory. To prevent this use copy() function\n",
    "\n",
    "df2 = df.copy()\n",
    "df2.fillna('0', inplace=True) #You must specify inplace=True, otherwise it doesn't overwrite original values\n",
    "df2\n",
    "\n",
    "# Reference: https://stackoverflow.com/questions/27673231/why-should-i-make-a-copy-of-a-data-frame-in-pandas"
   ]
  }
 ],
 "metadata": {
  "kernelspec": {
   "display_name": "Python 3.9.12 64-bit",
   "language": "python",
   "name": "python3"
  },
  "language_info": {
   "codemirror_mode": {
    "name": "ipython",
    "version": 3
   },
   "file_extension": ".py",
   "mimetype": "text/x-python",
   "name": "python",
   "nbconvert_exporter": "python",
   "pygments_lexer": "ipython3",
   "version": "3.9.12"
  },
  "orig_nbformat": 4,
  "vscode": {
   "interpreter": {
    "hash": "b0fa6594d8f4cbf19f97940f81e996739fb7646882a419484c72d19e05852a7e"
   }
  }
 },
 "nbformat": 4,
 "nbformat_minor": 2
}
