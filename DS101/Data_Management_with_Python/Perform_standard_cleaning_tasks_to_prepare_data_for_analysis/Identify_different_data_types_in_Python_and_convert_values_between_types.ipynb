{
 "cells": [
  {
   "cell_type": "markdown",
   "metadata": {},
   "source": [
    "# Identify different data types in Python"
   ]
  },
  {
   "cell_type": "code",
   "execution_count": 2,
   "metadata": {},
   "outputs": [
    {
     "name": "stdout",
     "output_type": "stream",
     "text": [
      "<class 'pandas.core.frame.DataFrame'>\n",
      "RangeIndex: 5 entries, 0 to 4\n",
      "Data columns (total 3 columns):\n",
      " #   Column           Non-Null Count  Dtype \n",
      "---  ------           --------------  ----- \n",
      " 0   neighborhood     5 non-null      object\n",
      " 1   neighborhood_id  5 non-null      int64 \n",
      " 2   air_quality      5 non-null      int64 \n",
      "dtypes: int64(2), object(1)\n",
      "memory usage: 248.0+ bytes\n"
     ]
    }
   ],
   "source": [
    "import pandas as pd\n",
    "sample_city_data = {'neighborhood': ['Alameda de Osuna', 'Aeropuerto', 'Casco Histórico de Barajas', 'Timón', 'Corralejos'],\n",
    "                    'neighborhood_id': [211, 212, 213, 214, 215], \n",
    "                    'air_quality': [13, 5, 72, 45, 39]}\n",
    "air_quality = pd.DataFrame(sample_city_data)\n",
    "\n",
    "# Display basic info about columns including data types\n",
    "air_quality.info()"
   ]
  },
  {
   "cell_type": "code",
   "execution_count": 3,
   "metadata": {},
   "outputs": [
    {
     "data": {
      "text/plain": [
       "neighborhood       object\n",
       "neighborhood_id     int64\n",
       "air_quality         int64\n",
       "dtype: object"
      ]
     },
     "execution_count": 3,
     "metadata": {},
     "output_type": "execute_result"
    }
   ],
   "source": [
    "# Display data types for all columns in the dataframe\n",
    "air_quality.dtypes"
   ]
  },
  {
   "cell_type": "markdown",
   "metadata": {},
   "source": [
    "# Converting values between types\n",
    "General recipe\n",
    "```python\n",
    "df[column1] = df[column1].astype('destination_type')\n",
    "```\n",
    "\n",
    "Pandas tries to be compatible with Numpy, including by defualt the NumPy dytpe. But it also offers several extensions to include new data types to increase the performance of non-numerical contents. One of the most popular type is Categorical.\n",
    "\n",
    "Reference: [Pandas Arrays and data types](https://pandas.pydata.org/docs/reference/api/pandas.array.html)"
   ]
  },
  {
   "cell_type": "markdown",
   "metadata": {},
   "source": [
    "## Converting integers to categorical data"
   ]
  },
  {
   "cell_type": "code",
   "execution_count": 4,
   "metadata": {},
   "outputs": [
    {
     "name": "stdout",
     "output_type": "stream",
     "text": [
      "<class 'pandas.core.frame.DataFrame'>\n",
      "RangeIndex: 5 entries, 0 to 4\n",
      "Data columns (total 3 columns):\n",
      " #   Column           Non-Null Count  Dtype   \n",
      "---  ------           --------------  -----   \n",
      " 0   neighborhood     5 non-null      object  \n",
      " 1   neighborhood_id  5 non-null      category\n",
      " 2   air_quality      5 non-null      int64   \n",
      "dtypes: category(1), int64(1), object(1)\n",
      "memory usage: 425.0+ bytes\n"
     ]
    }
   ],
   "source": [
    "air_quality['neighborhood_id'] = air_quality['neighborhood_id'].astype('category')\n",
    "# Alternative transformation air_quality['neighborhood_id'] = pd.Categorical(air_quality['neighborhood_id'])\n",
    "air_quality.info()"
   ]
  }
 ],
 "metadata": {
  "kernelspec": {
   "display_name": "Python 3.9.12 64-bit",
   "language": "python",
   "name": "python3"
  },
  "language_info": {
   "codemirror_mode": {
    "name": "ipython",
    "version": 3
   },
   "file_extension": ".py",
   "mimetype": "text/x-python",
   "name": "python",
   "nbconvert_exporter": "python",
   "pygments_lexer": "ipython3",
   "version": "3.9.12"
  },
  "orig_nbformat": 4,
  "vscode": {
   "interpreter": {
    "hash": "b0fa6594d8f4cbf19f97940f81e996739fb7646882a419484c72d19e05852a7e"
   }
  }
 },
 "nbformat": 4,
 "nbformat_minor": 2
}
